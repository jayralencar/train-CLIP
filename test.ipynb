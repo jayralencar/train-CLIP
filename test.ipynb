{
 "cells": [
  {
   "cell_type": "code",
   "execution_count": 1,
   "source": [
    "from models.wrapper import CustomCLIPWrapper\n",
    "from torchvision.models import resnet50\n",
    "from transformers import AutoTokenizer, AutoModel\n",
    "import torch"
   ],
   "outputs": [],
   "metadata": {}
  },
  {
   "cell_type": "code",
   "execution_count": 2,
   "source": [
    "img_encoder = resnet50(pretrained=True)\n",
    "img_encoder.fc = torch.nn.Linear(2048, 768)\n",
    "\n",
    "tokenizer = AutoTokenizer.from_pretrained(\"johngiorgi/declutr-sci-base\")\n",
    "txt_encoder = AutoModel.from_pretrained(\"johngiorgi/declutr-sci-base\")\n"
   ],
   "outputs": [],
   "metadata": {}
  },
  {
   "cell_type": "code",
   "execution_count": 3,
   "source": [
    "model = CustomCLIPWrapper.load_from_checkpoint(\"./logs/version_0/checkpoints/epoch=31-step=7231.ckpt\",image_encoder=img_encoder, text_encoder=txt_encoder, minibatch_size=1)"
   ],
   "outputs": [],
   "metadata": {}
  },
  {
   "cell_type": "code",
   "execution_count": 6,
   "source": [
    "# model = model.model.to('cpu')"
   ],
   "outputs": [],
   "metadata": {}
  },
  {
   "cell_type": "code",
   "execution_count": 4,
   "source": [
    "from torchvision import transforms as T\n",
    "import clip\n",
    "\n",
    "def fix_img(img):\n",
    "    return img.convert('RGB') if img.mode != 'RGB' else img\n",
    "\n",
    "image_transform = T.Compose([\n",
    "    T.Lambda(fix_img),\n",
    "    T.RandomResizedCrop(224,\n",
    "                        scale=(0.75, 1.),\n",
    "                        ratio=(1., 1.)),\n",
    "    T.ToTensor(),\n",
    "    T.Normalize((0.48145466, 0.4578275, 0.40821073), (0.26862954, 0.26130258, 0.27577711))\n",
    "])"
   ],
   "outputs": [
    {
     "output_type": "stream",
     "name": "stderr",
     "text": [
      "/home/jayr/.local/lib/python3.8/site-packages/torch/cuda/__init__.py:52: UserWarning: CUDA initialization: Found no NVIDIA driver on your system. Please check that you have an NVIDIA GPU and installed a driver from http://www.nvidia.com/Download/index.aspx (Triggered internally at  /pytorch/c10/cuda/CUDAFunctions.cpp:100.)\n",
      "  return torch._C._cuda_getDeviceCount() > 0\n"
     ]
    }
   ],
   "metadata": {}
  },
  {
   "cell_type": "code",
   "execution_count": 21,
   "source": [
    "import torch\n",
    "from PIL import Image\n",
    "\n",
    "texts = [\n",
    "  \"bird: warm-blooded egg-laying vertebrates characterized by feathers and forelimbs modified as wings\",\n",
    "  \"bird: the flesh of a bird or fowl (wild or domestic) used as food\",\n",
    "  \"dame: informal terms for a (young) woman\",\n",
    "  \"boo: a cry or noise made to express displeasure or contempt\",\n",
    "  \"bird: badminton equipment consisting of a ball of cork or rubber with a crown of feathers\",\n",
    "  # 'bird: m. and f. Any land birds, flying, with straight bill not very strong and generally small size.'\n",
    "]\n",
    "\n",
    "with torch.no_grad():\n",
    "    img_emb = image_transform(Image.open(\"./data_dir/26270.png\")).unsqueeze(0).to('cpu')\n",
    "    img_enc = model.model.encode_image(img_emb)\n",
    "    # print(img_enc.size())\n",
    "    # text_emb= clip.tokenize(texts, truncate=True).to('cpu')\n",
    "    # text_emb = tokenizer(texts,padding='max_length', truncation=True, return_tensors=\"pt\",max_length=77)['input_ids'].to('cpu')\n",
    "    text_emb = tokenizer(texts,padding='max_length', truncation=True, return_tensors=\"pt\",max_length=77)\n",
    "    # print(text_emb)/\n",
    "    text_enc = model.encode_text(text_emb)\n",
    "    print(text_enc.size())\n",
    "    logits_per_image, logits_per_text = model(img_emb,text_emb)\n",
    "    # probs = logits_per_image.softmax(dim=-1).cpu().numpy()\n",
    "    probs = logits_per_image.cpu().numpy()\n",
    "    better = probs.argmax()\n",
    "    print(better)\n",
    "    print(probs)\n",
    "    print(texts[better])"
   ],
   "outputs": [
    {
     "output_type": "stream",
     "name": "stdout",
     "text": [
      "torch.Size([5, 768])\n",
      "2\n",
      "[[-5.135251  -6.2063804 -1.5040816 -2.0771506 -9.048351 ]]\n",
      "dame: informal terms for a (young) woman\n"
     ]
    }
   ],
   "metadata": {}
  }
 ],
 "metadata": {
  "orig_nbformat": 4,
  "language_info": {
   "name": "python",
   "version": "3.8.10",
   "mimetype": "text/x-python",
   "codemirror_mode": {
    "name": "ipython",
    "version": 3
   },
   "pygments_lexer": "ipython3",
   "nbconvert_exporter": "python",
   "file_extension": ".py"
  },
  "kernelspec": {
   "name": "python3",
   "display_name": "Python 3.8.10 64-bit"
  },
  "interpreter": {
   "hash": "916dbcbb3f70747c44a77c7bcd40155683ae19c65e1c03b4aa3499c5328201f1"
  }
 },
 "nbformat": 4,
 "nbformat_minor": 2
}